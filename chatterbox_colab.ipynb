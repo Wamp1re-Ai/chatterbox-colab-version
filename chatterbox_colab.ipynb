{
 "cells": [
  {
   "cell_type": "markdown",
   "metadata": {},
   "source": ["# Chatterbox TTS - Colab Notebook\n",
    "This notebook demonstrates how to use Chatterbox, a state-of-the-art open-source TTS model. Follow the steps below to get started."]
  },
  {
   "cell_type": "markdown",
   "metadata": {},
   "source": ["## 1. Install Dependencies\n",
    "First, let's install the required packages."]
  },
  {
   "cell_type": "code",
   "execution_count": null,
   "metadata": {},
   "outputs": [],
   "source": ["!pip install chatterbox-tts"]
  },
  {
   "cell_type": "markdown",
   "metadata": {},
   "source": ["## 2. Import Libraries and Setup"]
  },
  {
   "cell_type": "code",
   "execution_count": null,
   "metadata": {},
   "outputs": [],
   "source": ["import torchaudio as ta\n",
    "import torch\n",
    "from chatterbox.tts import ChatterboxTTS\n",
    "\n",
    "# Automatically detect the best available device\n",
    "if torch.cuda.is_available():\n",
    "    device = \"cuda\"\n",
    "elif torch.backends.mps.is_available():\n",
    "    device = \"mps\"\n",
    "else:\n",
    "    device = \"cpu\"\n",
    "\n",
    "print(f\"Using device: {device}\")"]
  },
  {
   "cell_type": "markdown",
   "metadata": {},
   "source": ["## 3. Load the Model\n",
    "Now we'll load the pre-trained Chatterbox TTS model."]
  },
  {
   "cell_type": "code",
   "execution_count": null,
   "metadata": {},
   "outputs": [],
   "source": ["model = ChatterboxTTS.from_pretrained(device=device)"]
  },
  {
   "cell_type": "markdown",
   "metadata": {},
   "source": ["## 4. Generate Speech from Text\n",
    "Let's generate some speech using the default voice."]
  },
  {
   "cell_type": "code",
   "execution_count": null,
   "metadata": {},
   "outputs": [],
   "source": ["text = \"Hello! This is a test of the Chatterbox TTS system. It can generate natural-sounding speech from text.\"\n",
    "wav = model.generate(text)\n",
    "\n",
    "# Save the generated audio\n",
    "output_path = \"test_output.wav\"\n",
    "ta.save(output_path, wav, model.sr)\n",
    "\n",
    "# Display audio player in the notebook\n",
    "from IPython.display import Audio\n",
    "Audio(output_path)"]
  },
  {
   "cell_type": "markdown",
   "metadata": {},
   "source": ["## 5. Voice Cloning (Optional)\n",
    "You can also clone a voice by providing an audio prompt. Upload your audio file and specify its path below."]
  },
  {
   "cell_type": "code",
   "execution_count": null,
   "metadata": {},
   "outputs": [],
   "source": ["# Upload your audio file and set its path here\n",
    "AUDIO_PROMPT_PATH = \"path_to_your_audio.wav\"  # Replace with your audio file path\n",
    "\n",
    "# Generate speech with the voice from the audio prompt\n",
    "text = \"This is the same text but spoken in a different voice.\"\n",
    "wav = model.generate(text, audio_prompt_path=AUDIO_PROMPT_PATH)\n",
    "\n",
    "# Save and play the generated audio\n",
    "output_path_cloned = \"test_output_cloned.wav\"\n",
    "ta.save(output_path_cloned, wav, model.sr)\n",
    "Audio(output_path_cloned)"]
  }
 ],
 "metadata": {
  "kernelspec": {
   "display_name": "Python 3",
   "language": "python",
   "name": "python3"
  },
  "language_info": {
   "codemirror_mode": {
    "name": "ipython",
    "version": 3
   },
   "file_extension": ".py",
   "mimetype": "text/x-python",
   "name": "python",
   "nbconvert_exporter": "python",
   "pygments_lexer": "ipython3",
   "version": "3.9.0"
  }
 },
 "nbformat": 4,
 "nbformat_minor": 4
}